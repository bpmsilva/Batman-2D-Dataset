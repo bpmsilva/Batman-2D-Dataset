{
 "cells": [
  {
   "cell_type": "markdown",
   "metadata": {},
   "source": [
    "## Imports"
   ]
  },
  {
   "cell_type": "code",
   "execution_count": null,
   "metadata": {},
   "outputs": [],
   "source": [
    "import numpy as np\n",
    "import matplotlib.pyplot as plt\n",
    "\n",
    "from sklearn.neighbors import KNeighborsClassifier\n",
    "\n",
    "from batman import batman_curve, get_dataset\n",
    "from utils import bootstrap_sampler, visualize_data, compute_main_predictions\n",
    "\n",
    "%load_ext autoreload\n",
    "%autoreload 2"
   ]
  },
  {
   "cell_type": "markdown",
   "metadata": {},
   "source": [
    "## Create random points"
   ]
  },
  {
   "cell_type": "code",
   "execution_count": null,
   "metadata": {},
   "outputs": [],
   "source": [
    "sample_size = 10000\n",
    "X1 = 16*np.random.random(size=(sample_size, 1)) - 8\n",
    "X2 =  8*np.random.random(size=(sample_size, 1)) - 4\n",
    "X = np.concatenate((X1, X2), axis=1)\n",
    "Y = np.zeros((sample_size, 1))\n",
    "\n",
    "for i in range(len(X)):\n",
    "    curr_cat = batman_curve(X[i, 0], X[i, 1])\n",
    "    Y[i, 0] = curr_cat\n",
    "\n",
    "color = list(map(lambda x: 'y' if x == 1 else 'k', Y))"
   ]
  },
  {
   "cell_type": "markdown",
   "metadata": {},
   "source": [
    "## Show scatter plot"
   ]
  },
  {
   "cell_type": "code",
   "execution_count": null,
   "metadata": {},
   "outputs": [],
   "source": [
    "plt.figure(figsize=(10, 5))\n",
    "plt.scatter(X[:, 0], X[:, 1], color=color)"
   ]
  },
  {
   "cell_type": "markdown",
   "metadata": {},
   "source": [
    "## Cleaner figure"
   ]
  },
  {
   "cell_type": "code",
   "execution_count": null,
   "metadata": {},
   "outputs": [],
   "source": [
    "plt.figure(figsize=(10, 5))\n",
    "plt.scatter(X[:, 0], X[:, 1], color=color)\n",
    "plt.axis('off')\n",
    "plt.savefig('resources/batman-logo.png', dpi=300, bbox_inches='tight')"
   ]
  },
  {
   "cell_type": "markdown",
   "metadata": {},
   "source": [
    "## Different data regimes (low, medium, high)"
   ]
  },
  {
   "cell_type": "code",
   "execution_count": null,
   "metadata": {},
   "outputs": [],
   "source": [
    "regime_data = dict()\n",
    "regime_sizes = [300, 1000, 3000]\n",
    "regime_names = ['low', 'medium', 'high']\n",
    "\n",
    "for name, size in zip(regime_names, regime_sizes):\n",
    "    regime_data[name] = get_dataset(sample_size=size)\n",
    "\n",
    "    X, Y, Y_star = regime_data[name]\n",
    "    color_y      = list(map(lambda x: 'y' if x == 1 else 'k', Y))\n",
    "    color_y_star = list(map(lambda x: 'y' if x == 1 else 'k', Y_star))\n",
    "\n",
    "    fig, axes = plt.subplots(nrows=1, ncols=2, figsize=(10, 5))\n",
    "\n",
    "    axes[0].set_title('Noisy data')\n",
    "    axes[0].scatter(X[:, 0], X[:, 1], color=color_y)\n",
    "\n",
    "    axes[1].set_title('Noiseless data')\n",
    "    axes[1].scatter(X[:, 0], X[:, 1], color=color_y_star)"
   ]
  },
  {
   "cell_type": "markdown",
   "metadata": {},
   "source": [
    "## Simple classifier"
   ]
  },
  {
   "cell_type": "code",
   "execution_count": null,
   "metadata": {},
   "outputs": [],
   "source": [
    "clf = KNeighborsClassifier(n_neighbors=1)\n",
    "X, Y, Y_star = regime_data['medium']\n",
    "\n",
    "clf.fit(X, Y[:, 0])"
   ]
  },
  {
   "cell_type": "markdown",
   "metadata": {},
   "source": [
    "## Create grid data"
   ]
  },
  {
   "cell_type": "code",
   "execution_count": null,
   "metadata": {},
   "outputs": [],
   "source": [
    "step = 0.1\n",
    "grid_x1 = (-8, 8)\n",
    "grid_x2 = (-4, 4)\n",
    "\n",
    "# linearly spaced coordinates\n",
    "xx1 = np.arange(grid_x1[0], grid_x1[1] + step, step)\n",
    "xx2 = np.arange(grid_x2[0], grid_x2[1] + step, step)\n",
    "\n",
    "XX = np.array(np.meshgrid(xx1, xx2)).T.reshape(-1, 2)"
   ]
  },
  {
   "cell_type": "markdown",
   "metadata": {},
   "source": [
    "## Predictions on a regular grid"
   ]
  },
  {
   "cell_type": "code",
   "execution_count": null,
   "metadata": {},
   "outputs": [],
   "source": [
    "YY = clf.predict(XX)"
   ]
  },
  {
   "cell_type": "markdown",
   "metadata": {},
   "source": [
    "## Simple visualization of the results"
   ]
  },
  {
   "cell_type": "code",
   "execution_count": null,
   "metadata": {},
   "outputs": [],
   "source": [
    "fig, axes = plt.subplots(nrows=1, ncols=3, figsize=(10, 5))\n",
    "\n",
    "# Classifier results\n",
    "visualize_data(XX, YY, axes[0], title='Classifier')\n",
    "\n",
    "# Data\n",
    "visualize_data(X, Y_star, axes[1], title='Noisy (training) data')\n",
    "visualize_data(X, Y_star, axes[2], title='Noiseless data')"
   ]
  },
  {
   "cell_type": "markdown",
   "metadata": {},
   "source": [
    "## Compare classifier results according to different data regimes"
   ]
  },
  {
   "cell_type": "code",
   "execution_count": null,
   "metadata": {},
   "outputs": [],
   "source": [
    "fig, axes = plt.subplots(nrows=1, ncols=3, figsize=(5*len(regime_names), 5))\n",
    "for regime_name, ax in zip(regime_names, axes):\n",
    "    # get data\n",
    "    X, Y, Y_star = regime_data[regime_name]\n",
    "\n",
    "    # create and fit the classifier\n",
    "    clf = KNeighborsClassifier(n_neighbors=1)\n",
    "    clf.fit(X, Y[:, 0])\n",
    "\n",
    "    # prediction\n",
    "    prediction = clf.predict(XX)\n",
    "\n",
    "    # visualization\n",
    "    visualize_data(XX, prediction, ax, title=regime_name)"
   ]
  },
  {
   "cell_type": "markdown",
   "metadata": {},
   "source": [
    "## Bias and variance estimation"
   ]
  },
  {
   "cell_type": "markdown",
   "metadata": {},
   "source": [
    "### Inputs"
   ]
  },
  {
   "cell_type": "code",
   "execution_count": null,
   "metadata": {},
   "outputs": [],
   "source": [
    "# Inputs\n",
    "selected_regime = 'medium'\n",
    "data = regime_data[selected_regime]\n",
    "num_bootstrap_samples = 100 # TODO: increase it later to at least 1000"
   ]
  },
  {
   "cell_type": "code",
   "execution_count": null,
   "metadata": {},
   "outputs": [],
   "source": [
    "oob_predictions = []\n",
    "for _ in range(num_bootstrap_samples):\n",
    "    # create bootstrap sample\n",
    "    bootstrap_samples, oob_samples = bootstrap_sampler(data, return_indices=True)\n",
    "\n",
    "    # adjust the model\n",
    "    idxs_boot, X_boot, Y_boot, Y_star_boot = bootstrap_samples\n",
    "    clf.fit(X_boot, Y_boot[:, 0])\n",
    "\n",
    "    # predictions on the out of bag samples\n",
    "    idxs_oob, X_oob, Y_oob, Y_star_oob = bootstrap_samples\n",
    "    curr_predictions = clf.predict(X_oob)\n",
    "    oob_predictions.append((idxs_oob, curr_predictions))\n",
    "\n",
    "# get main predictions\n",
    "main_predictions = compute_main_predictions(oob_predictions)\n",
    "\n",
    "noises, biases, variances, losses = [], [], [], []\n",
    "for indices, predictions in oob_predictions:\n",
    "    # return main predictions of the out of bag samples\n",
    "    curr_main_predictions = main_predictions[indices]\n",
    "\n",
    "    # unpack the data\n",
    "    X, Y, Y_star = data\n",
    "\n",
    "    # compute the noises..\n",
    "    curr_noises = (Y[indices] != Y_star[indices]).astype(np.int32)\n",
    "    mean_noise = np.mean(curr_noises)\n",
    "\n",
    "    # ... the biases, ...\n",
    "    curr_biases = (Y_star[indices] != curr_main_predictions).astype(np.int32)\n",
    "    mean_bias = np.mean(curr_biases)\n",
    "\n",
    "    # ... and the variances.\n",
    "    curr_variances = (predictions != curr_main_predictions).astype(np.int32)\n",
    "    mean_variance = np.mean(curr_variances)\n",
    "\n",
    "    # Compute the loss:\n",
    "    # if bias == 0 ...\n",
    "    bias0 = (1 - curr_biases) * (curr_noises*(1 - curr_variances) + curr_variances*(1 - curr_noises))\n",
    "    # or if bias == 1\n",
    "    bias1 = curr_biases*(1 - curr_noises - curr_variances + 2*curr_noises*curr_variances)\n",
    "\n",
    "    curr_losses = bias0 + bias1\n",
    "    mean_losses = np.mean(curr_losses)\n",
    "\n",
    "    noises.append(mean_noise)\n",
    "    biases.append(mean_bias)\n",
    "    variances.append(mean_variance)\n",
    "    losses.append(mean_losses)"
   ]
  },
  {
   "cell_type": "code",
   "execution_count": null,
   "metadata": {},
   "outputs": [],
   "source": []
  }
 ],
 "metadata": {
  "kernelspec": {
   "display_name": "Python 3.8.10 64-bit",
   "language": "python",
   "name": "python3"
  },
  "language_info": {
   "codemirror_mode": {
    "name": "ipython",
    "version": 3
   },
   "file_extension": ".py",
   "mimetype": "text/x-python",
   "name": "python",
   "nbconvert_exporter": "python",
   "pygments_lexer": "ipython3",
   "version": "3.8.10"
  },
  "orig_nbformat": 4,
  "vscode": {
   "interpreter": {
    "hash": "916dbcbb3f70747c44a77c7bcd40155683ae19c65e1c03b4aa3499c5328201f1"
   }
  }
 },
 "nbformat": 4,
 "nbformat_minor": 2
}
